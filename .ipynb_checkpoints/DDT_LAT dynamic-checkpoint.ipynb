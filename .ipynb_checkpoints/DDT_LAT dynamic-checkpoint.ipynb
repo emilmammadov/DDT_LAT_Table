{
 "cells": [
  {
   "cell_type": "code",
   "execution_count": 1,
   "metadata": {},
   "outputs": [],
   "source": [
    "import numpy\n",
    "def LAT(inputMask, outputMask):\n",
    "    count=0\n",
    "    \n",
    "    for a in range(len(sBox)):\n",
    "        key=dec(a)\n",
    "        value=dec(sBox[a])\n",
    "        \n",
    "        left=inputMask&key\n",
    "        right=value&outputMask\n",
    "        left=bin(left)[2:].zfill(4)\n",
    "        right=bin(right)[2:].zfill(4)\n",
    "        \n",
    "        left=XOR(left)\n",
    "        right=XOR(right)\n",
    "        if left==right:\n",
    "            count+=1\n",
    "    \n",
    "    count = count-pow(2,3)\n",
    "    return count\n",
    "        \n",
    "        \n",
    "def XOR(x):\n",
    "    if len(x)==1:\n",
    "        return x\n",
    "    else:\n",
    "        x=str(int(x[0])^int(x[1])) + x[2:]\n",
    "        return XOR(x)    \n",
    "\n",
    "def dec(x):\n",
    "    if type(x)==int:\n",
    "        return x\n",
    "    else:\n",
    "        if x=='A' or x=='a':\n",
    "            return 10\n",
    "        if x=='B' or x=='b':\n",
    "            return 11\n",
    "        if x=='C' or x=='c':\n",
    "            return 12\n",
    "        if x=='D' or x=='d':\n",
    "            return 13\n",
    "        if x=='E' or x=='e':\n",
    "            return 14\n",
    "        if x=='F' or x=='f':\n",
    "            return 15"
   ]
  },
  {
   "cell_type": "code",
   "execution_count": 2,
   "metadata": {},
   "outputs": [],
   "source": [
    "def DDT(inputMask,outputMask):\n",
    "    count=0\n",
    "    for a in range(len(sBox)):\n",
    "        key=dec(a)\n",
    "        value=dec(sBox[a])\n",
    "        left_right=dec(sBox[key^inputMask])\n",
    "        left=value^left_right\n",
    "        if left==outputMask:\n",
    "            count+=1\n",
    "    return count"
   ]
  },
  {
   "cell_type": "code",
   "execution_count": 3,
   "metadata": {},
   "outputs": [],
   "source": [
    "def LAT_calculate(sBox):\n",
    "    latTable = numpy.zeros((16,16))\n",
    "    for i in range(len(sBox)):\n",
    "        for j in range(len(sBox)):\n",
    "            latTable[i][j]=LAT(i,j)\n",
    "    print('-'*100)        \n",
    "    print('LAT TABLE')\n",
    "    print('-'*100 + '\\n')  \n",
    "    print(latTable)\n",
    "    print('\\n')\n",
    "    return latTable\n",
    "    \n",
    "def DDT_calculate(sBox):\n",
    "    ddtTable = numpy.zeros((16,16))\n",
    "    for i in range(len(sBox)):\n",
    "        for j in range(len(sBox)):\n",
    "            ddtTable[i][j]=DDT(i,j)\n",
    "\n",
    "    print('-'*100)        \n",
    "    print('DDT TABLE')\n",
    "    print('-'*100 + '\\n')  \n",
    "    print(ddtTable)\n",
    "    print('\\n')\n",
    "    return ddtTable\n",
    "    \n",
    "def LAT_nonlinearity(sBox):\n",
    "    absLAT=numpy.absolute(LAT_calculate(sBox))\n",
    "    absLAT[0][0]=0\n",
    "    NLMs=8-numpy.max(absLAT)\n",
    "    nonLinear=NLMs/6*100\n",
    "    print('\\n' + '-'*100)       \n",
    "    print('LAT NON-LINEARITY = %'+str(nonLinear))\n",
    "    print('-'*100 + '\\n')"
   ]
  },
  {
   "cell_type": "code",
   "execution_count": 4,
   "metadata": {},
   "outputs": [
    {
     "name": "stdout",
     "output_type": "stream",
     "text": [
      "S-box değerlerini programın hesaplamasını ister misiniz? (istemezseniz S-box değerlerini manuel girmelisiniz.)e\n",
      "S-box değerlerini arada boşluk bırakarak giriniz: 0 1 f a 8 6 5 9 4 7 3 e d c b 2\n"
     ]
    }
   ],
   "source": [
    "while True:\n",
    "    qr = input('S-box değerlerini programın hesaplamasını ister misiniz? (istemezseniz S-box değerlerini manuel girmelisiniz.)')\n",
    "    if qr == '' or not qr[0].lower() in ['e','h']:print('Lütfen evet veya hayır cevabı giriniz')\n",
    "    else:break\n",
    "if qr[0].lower() == 'e': \n",
    "    sBox = [x for x in input(\"S-box değerlerini arada boşluk bırakarak giriniz: \").split()] \n",
    "    #print(\"\", x)\n",
    "if qr[0].lower() == 'h':\n",
    "    print('hey')"
   ]
  },
  {
   "cell_type": "code",
   "execution_count": 5,
   "metadata": {},
   "outputs": [
    {
     "name": "stdout",
     "output_type": "stream",
     "text": [
      "GF(2^4)'de indirgenemez polinomlar aşağıda verilmiştir.\n",
      "\n",
      "x^4+x+1\n",
      "x^4+x^3+x^2+x+1\n",
      "x^4+x^3+1\n"
     ]
    }
   ],
   "source": [
    "print(\"GF(2^4)'de indirgenemez polinomlar aşağıda verilmiştir.\\n\")\n",
    "print('x^4+x+1\\nx^4+x^3+x^2+x+1\\nx^4+x^3+1')"
   ]
  },
  {
   "cell_type": "code",
   "execution_count": 6,
   "metadata": {},
   "outputs": [],
   "source": [
    "# S-box values\n",
    "#sBox=[0,1,'f','a',8,6,5,9,4,7,3,'e','d','c','b',2]"
   ]
  },
  {
   "cell_type": "code",
   "execution_count": 7,
   "metadata": {},
   "outputs": [
    {
     "ename": "TypeError",
     "evalue": "unsupported operand type(s) for &: 'NoneType' and 'int'",
     "output_type": "error",
     "traceback": [
      "\u001b[1;31m---------------------------------------------------------------------------\u001b[0m",
      "\u001b[1;31mTypeError\u001b[0m                                 Traceback (most recent call last)",
      "\u001b[1;32m<ipython-input-7-1180f0f9c1d6>\u001b[0m in \u001b[0;36m<module>\u001b[1;34m\u001b[0m\n\u001b[1;32m----> 1\u001b[1;33m \u001b[0mLAT_calculate\u001b[0m\u001b[1;33m(\u001b[0m\u001b[0msBox\u001b[0m\u001b[1;33m)\u001b[0m\u001b[1;33m\u001b[0m\u001b[1;33m\u001b[0m\u001b[0m\n\u001b[0m",
      "\u001b[1;32m<ipython-input-3-8141a385cc83>\u001b[0m in \u001b[0;36mLAT_calculate\u001b[1;34m(sBox)\u001b[0m\n\u001b[0;32m      3\u001b[0m     \u001b[1;32mfor\u001b[0m \u001b[0mi\u001b[0m \u001b[1;32min\u001b[0m \u001b[0mrange\u001b[0m\u001b[1;33m(\u001b[0m\u001b[0mlen\u001b[0m\u001b[1;33m(\u001b[0m\u001b[0msBox\u001b[0m\u001b[1;33m)\u001b[0m\u001b[1;33m)\u001b[0m\u001b[1;33m:\u001b[0m\u001b[1;33m\u001b[0m\u001b[1;33m\u001b[0m\u001b[0m\n\u001b[0;32m      4\u001b[0m         \u001b[1;32mfor\u001b[0m \u001b[0mj\u001b[0m \u001b[1;32min\u001b[0m \u001b[0mrange\u001b[0m\u001b[1;33m(\u001b[0m\u001b[0mlen\u001b[0m\u001b[1;33m(\u001b[0m\u001b[0msBox\u001b[0m\u001b[1;33m)\u001b[0m\u001b[1;33m)\u001b[0m\u001b[1;33m:\u001b[0m\u001b[1;33m\u001b[0m\u001b[1;33m\u001b[0m\u001b[0m\n\u001b[1;32m----> 5\u001b[1;33m             \u001b[0mlatTable\u001b[0m\u001b[1;33m[\u001b[0m\u001b[0mi\u001b[0m\u001b[1;33m]\u001b[0m\u001b[1;33m[\u001b[0m\u001b[0mj\u001b[0m\u001b[1;33m]\u001b[0m\u001b[1;33m=\u001b[0m\u001b[0mLAT\u001b[0m\u001b[1;33m(\u001b[0m\u001b[0mi\u001b[0m\u001b[1;33m,\u001b[0m\u001b[0mj\u001b[0m\u001b[1;33m)\u001b[0m\u001b[1;33m\u001b[0m\u001b[1;33m\u001b[0m\u001b[0m\n\u001b[0m\u001b[0;32m      6\u001b[0m     \u001b[0mprint\u001b[0m\u001b[1;33m(\u001b[0m\u001b[1;34m'-'\u001b[0m\u001b[1;33m*\u001b[0m\u001b[1;36m100\u001b[0m\u001b[1;33m)\u001b[0m\u001b[1;33m\u001b[0m\u001b[1;33m\u001b[0m\u001b[0m\n\u001b[0;32m      7\u001b[0m     \u001b[0mprint\u001b[0m\u001b[1;33m(\u001b[0m\u001b[1;34m'LAT TABLE'\u001b[0m\u001b[1;33m)\u001b[0m\u001b[1;33m\u001b[0m\u001b[1;33m\u001b[0m\u001b[0m\n",
      "\u001b[1;32m<ipython-input-1-01b2a4f3ecce>\u001b[0m in \u001b[0;36mLAT\u001b[1;34m(inputMask, outputMask)\u001b[0m\n\u001b[0;32m      8\u001b[0m \u001b[1;33m\u001b[0m\u001b[0m\n\u001b[0;32m      9\u001b[0m         \u001b[0mleft\u001b[0m\u001b[1;33m=\u001b[0m\u001b[0minputMask\u001b[0m\u001b[1;33m&\u001b[0m\u001b[0mkey\u001b[0m\u001b[1;33m\u001b[0m\u001b[1;33m\u001b[0m\u001b[0m\n\u001b[1;32m---> 10\u001b[1;33m         \u001b[0mright\u001b[0m\u001b[1;33m=\u001b[0m\u001b[0mvalue\u001b[0m\u001b[1;33m&\u001b[0m\u001b[0moutputMask\u001b[0m\u001b[1;33m\u001b[0m\u001b[1;33m\u001b[0m\u001b[0m\n\u001b[0m\u001b[0;32m     11\u001b[0m         \u001b[0mleft\u001b[0m\u001b[1;33m=\u001b[0m\u001b[0mbin\u001b[0m\u001b[1;33m(\u001b[0m\u001b[0mleft\u001b[0m\u001b[1;33m)\u001b[0m\u001b[1;33m[\u001b[0m\u001b[1;36m2\u001b[0m\u001b[1;33m:\u001b[0m\u001b[1;33m]\u001b[0m\u001b[1;33m.\u001b[0m\u001b[0mzfill\u001b[0m\u001b[1;33m(\u001b[0m\u001b[1;36m4\u001b[0m\u001b[1;33m)\u001b[0m\u001b[1;33m\u001b[0m\u001b[1;33m\u001b[0m\u001b[0m\n\u001b[0;32m     12\u001b[0m         \u001b[0mright\u001b[0m\u001b[1;33m=\u001b[0m\u001b[0mbin\u001b[0m\u001b[1;33m(\u001b[0m\u001b[0mright\u001b[0m\u001b[1;33m)\u001b[0m\u001b[1;33m[\u001b[0m\u001b[1;36m2\u001b[0m\u001b[1;33m:\u001b[0m\u001b[1;33m]\u001b[0m\u001b[1;33m.\u001b[0m\u001b[0mzfill\u001b[0m\u001b[1;33m(\u001b[0m\u001b[1;36m4\u001b[0m\u001b[1;33m)\u001b[0m\u001b[1;33m\u001b[0m\u001b[1;33m\u001b[0m\u001b[0m\n",
      "\u001b[1;31mTypeError\u001b[0m: unsupported operand type(s) for &: 'NoneType' and 'int'"
     ]
    }
   ],
   "source": [
    "LAT_calculate(sBox)"
   ]
  },
  {
   "cell_type": "code",
   "execution_count": null,
   "metadata": {},
   "outputs": [],
   "source": [
    "#DDT_calculate(sBox)"
   ]
  },
  {
   "cell_type": "code",
   "execution_count": null,
   "metadata": {},
   "outputs": [],
   "source": [
    "#LAT_nonlinearity(sBox)"
   ]
  }
 ],
 "metadata": {
  "kernelspec": {
   "display_name": "Python 3",
   "language": "python",
   "name": "python3"
  },
  "language_info": {
   "codemirror_mode": {
    "name": "ipython",
    "version": 3
   },
   "file_extension": ".py",
   "mimetype": "text/x-python",
   "name": "python",
   "nbconvert_exporter": "python",
   "pygments_lexer": "ipython3",
   "version": "3.7.3"
  }
 },
 "nbformat": 4,
 "nbformat_minor": 2
}
